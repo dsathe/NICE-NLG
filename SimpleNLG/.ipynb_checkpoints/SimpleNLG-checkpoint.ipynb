{
 "cells": [
  {
   "cell_type": "code",
   "execution_count": 1,
   "metadata": {},
   "outputs": [],
   "source": [
    "import sqlite3\n",
    "from simplenlg import *"
   ]
  },
  {
   "cell_type": "code",
   "execution_count": 2,
   "metadata": {},
   "outputs": [],
   "source": [
    "lexicon = Lexicon.getDefaultLexicon()\n",
    "nlgFactory = NLGFactory(lexicon)\n",
    "realiser = Realiser(lexicon)"
   ]
  },
  {
   "cell_type": "code",
   "execution_count": 3,
   "metadata": {},
   "outputs": [],
   "source": [
    "database = 'transaction_data.sqlite'\n",
    "try:\n",
    "    connq = sqlite3.connect(database)\n",
    "except Error as e:\n",
    "    print(e)\n",
    "cur = connq.cursor()"
   ]
  },
  {
   "cell_type": "code",
   "execution_count": 4,
   "metadata": {},
   "outputs": [
    {
     "name": "stdout",
     "output_type": "stream",
     "text": [
      "The data consists of 50 transactions.\n"
     ]
    }
   ],
   "source": [
    "#no of rows in database.\n",
    "cur.execute(\"select Count(*) from data\" )\n",
    "rows = cur.fetchall()\n",
    "obj = nlgFactory.createNounPhrase(str(rows[0][0])+\" transactions\")\n",
    "p=nlgFactory.createClause(\"the data\",\"consist of\",obj)\n",
    "sentence1 = nlgFactory.createSentence()\n",
    "sentence1.addComponent(p)\n",
    "print(realiser.realise(sentence1))"
   ]
  },
  {
   "cell_type": "code",
   "execution_count": 5,
   "metadata": {},
   "outputs": [
    {
     "name": "stdout",
     "output_type": "stream",
     "text": [
      "('Credit', 19)\n",
      "('Debit', 31)\n",
      "Debit transactions exceed Credit transactions by 12.\n"
     ]
    }
   ],
   "source": [
    "#type of transactions with count\n",
    "cur.execute(\"select transaction_type, count(*) from data group by transaction_type\" )\n",
    "rows = cur.fetchall()\n",
    "for row in rows:\n",
    "    print(row)\n",
    "n1 = nlgFactory.createNounPhrase(str(rows[0][0]) + \" transactions\")\n",
    "n2 = nlgFactory.createNounPhrase(str(rows[1][0]) + \" transactions\")\n",
    "n1.setPlural(True)\n",
    "n2.setPlural(True)\n",
    "q = nlgFactory.createClause()\n",
    "diff = 0\n",
    "if rows[0][1]>rows[1][1]:\n",
    "    q.setSubject(n1)\n",
    "    q.setObject(n2)\n",
    "    diff = rows[0][1] - rows[1][1]\n",
    "else:\n",
    "    q.setSubject(n2)\n",
    "    q.setObject(n1)\n",
    "    diff = rows[1][1] - rows[0][1]\n",
    "q.setVerb(\"exceed\")\n",
    "q.addComplement(\"by \" + str(diff))\n",
    "sentence2 = nlgFactory.createSentence()\n",
    "sentence2.addComponent(q)\n",
    "print(realiser.realise(sentence2))\n"
   ]
  },
  {
   "cell_type": "code",
   "execution_count": 6,
   "metadata": {},
   "outputs": [
    {
     "name": "stdout",
     "output_type": "stream",
     "text": [
      "(0, 'Credit', 16, 0.6055328582069228)\n",
      "(0, 'Debit', 28, 0.6404107306994379)\n",
      "(1, 'Credit', 3, 0.006173236695082996)\n",
      "(1, 'Debit', 3, 0.01575442290295273)\n",
      "Total non-suspicious credit transactions are 16, non-suspicious debit transactions are 28, non-suspicious credit transactions are 3 and non-suspicious debit transactions are 3.\n"
     ]
    }
   ],
   "source": [
    "#further details\n",
    "cur.execute(\"select is_suspicious,transaction_type,count(*),avg(Occurance_probability) from data group by is_suspicious,transaction_type\" )\n",
    "rows = cur.fetchall()\n",
    "sub = [None]*4\n",
    "i = 0\n",
    "for row in rows:\n",
    "    print(row)\n",
    "    if row is 0:\n",
    "        sub[i]= nlgFactory.createNounPhrase(\"suspicious \" + row[1].lower() + \" transactions\")\n",
    "    else:\n",
    "        sub[i] =  nlgFactory.createNounPhrase(\"non-suspicious \" + row[1].lower() + \" transactions\")\n",
    "        sub[i].setPlural(True)\n",
    "        i = i+1\n",
    "sub[0].addPreModifier(\"Total\")\n",
    "t = nlgFactory.createClause(sub[0],\"is\",str(rows[0][2]))\n",
    "u = nlgFactory.createClause(sub[1],\"is\",str(rows[1][2]))\n",
    "v = nlgFactory.createClause(sub[2],\"is\",str(rows[2][2]))\n",
    "w = nlgFactory.createClause(sub[3],\"is\",str(rows[3][2]))\n",
    "c = nlgFactory.createCoordinatedPhrase()\n",
    "c.addCoordinate(t)\n",
    "c.addCoordinate(u)\n",
    "c.addCoordinate(v)\n",
    "c.addCoordinate(w)\n",
    "sentence4 = nlgFactory.createSentence()\n",
    "sentence4.addComponent(c)\n",
    "print(realiser.realise(sentence4))\n"
   ]
  },
  {
   "cell_type": "code",
   "execution_count": 7,
   "metadata": {},
   "outputs": [
    {
     "name": "stdout",
     "output_type": "stream",
     "text": [
      "(0, 44, 0.6277278679748869)\n",
      "(1, 6, 0.010963829799017862)\n",
      "The probability of a suspicious transaction is 0.628 and non-suspicious transaction is 0.011.\n"
     ]
    }
   ],
   "source": [
    "#no of suspicious crimes with probability\n",
    "cur.execute(\"select is_suspicious,count(*),avg(Occurance_probability) from data group by is_suspicious\" )\n",
    "rows = cur.fetchall()\n",
    "for row in rows:\n",
    "    print(row)\n",
    "\n",
    "r = nlgFactory.createClause()\n",
    "sub = nlgFactory.createNounPhrase(\"the probability\")\n",
    "pp = nlgFactory.createPrepositionPhrase();\n",
    "pp.addComplement(\"a suspicious transaction\");\n",
    "pp.setPreposition(\"of\");\n",
    "sub.addPostModifier(pp);\n",
    "r.setSubject(sub)\n",
    "r.setVerb(\"be\")\n",
    "r.addComplement(str(round(rows[0][2],3)))\n",
    "s = nlgFactory.createClause(\"non-suspicious transaction\",\"is\",str(round(rows[1][2],3)))\n",
    "c = nlgFactory.createCoordinatedPhrase()\n",
    "c.addCoordinate(r)\n",
    "c.addCoordinate(s)\n",
    "sentence3 = nlgFactory.createSentence()\n",
    "sentence3.addComponent(c)\n",
    "print(realiser.realise(sentence3))"
   ]
  },
  {
   "cell_type": "code",
   "execution_count": 8,
   "metadata": {
    "scrolled": true
   },
   "outputs": [
    {
     "name": "stdout",
     "output_type": "stream",
     "text": [
      "(15, 5014, 'Credit', 1971, 0, 0.509495204396564)\n",
      "The Given account 5014 is a credit account and it is a non-suspicious transaction.\n",
      "\n",
      "\n",
      "(16, 5008, 'Credit', 8849, 1, 0.000619510561900127)\n",
      "The Given account 5008 is a credit account and it is a suspicious transaction.\n",
      "\n",
      "\n",
      "(17, 5012, 'Debit', 7973, 1, 0.00243611794334719)\n",
      "The Given account 5012 is a debit account and it is a suspicious transaction.\n",
      "\n",
      "\n",
      "(18, 5005, 'Debit', 1482, 0, 0.600684031145574)\n",
      "The Given account 5005 is a debit account and it is a non-suspicious transaction.\n",
      "\n",
      "\n",
      "(19, 5015, 'Debit', 521, 0, 0.761056790634202)\n",
      "The Given account 5015 is a debit account and it is a non-suspicious transaction.\n",
      "\n",
      "\n"
     ]
    }
   ],
   "source": [
    "#Writing sentences for 5 rows.(rowise)\n",
    "cur.execute(\"select * from data limit 5 offset 14\")\n",
    "rows = cur.fetchall()\n",
    "for row in rows:\n",
    "    print (row)\n",
    "    \n",
    "    r = nlgFactory.createClause()\n",
    "    sub = nlgFactory.createNounPhrase(\"The Given account \",str(row[1]))\n",
    "    r.setSubject(sub)\n",
    "    r.setVerb(\"be\")\n",
    "    if str(row[2])=='Credit':\n",
    "        r.addComplement(\"a credit account\")\n",
    "    else :\n",
    "        r.addComplement(\"a debit account\")\n",
    "    if row[4]==0:\n",
    "        s = nlgFactory.createClause(\"it is a non-suspicious transaction\")\n",
    "        c = nlgFactory.createCoordinatedPhrase(r,s)\n",
    "        #c.addCoordinate(r)\n",
    "        #c.addCoordinate(s)\n",
    "        c.setFeature(Feature.CONJUNCTION, \"and\");\n",
    "        sentence = nlgFactory.createSentence()\n",
    "        sentence.addComponent(c)\n",
    "        print(realiser.realise(sentence))\n",
    "        print('\\n')\n",
    "    else:\n",
    "        s = nlgFactory.createClause(\"it is a suspicious transaction\")\n",
    "        c = nlgFactory.createCoordinatedPhrase(r,s)\n",
    "        c.setFeature(Feature.CONJUNCTION, \"and\");\n",
    "        sentence = nlgFactory.createSentence()\n",
    "        sentence.addComponent(c)\n",
    "        print(realiser.realise(sentence))\n",
    "        print('\\n')\n",
    "    "
   ]
  },
  {
   "cell_type": "code",
   "execution_count": 9,
   "metadata": {},
   "outputs": [
    {
     "name": "stdout",
     "output_type": "stream",
     "text": [
      "The data consists of 50 transactions. Debit transactions exceed Credit transactions by 12. Total, non-suspicious credit transactions, are, 16, non-suspicious debit transactions are 28, non-suspicious credit transactions are 3, and non-suspicious debit transactions are 3. The probability of a suspicious transaction is 0.628, and non-suspicious transaction is 0.011.\n"
     ]
    }
   ],
   "source": [
    "#printing the paragraph\n",
    "print(realiser.realise(sentence1),realiser.realise(sentence2),realiser.realise(sentence4),realiser.realise(sentence3))"
   ]
  },
  {
   "cell_type": "code",
   "execution_count": null,
   "metadata": {},
   "outputs": [],
   "source": []
  }
 ],
 "metadata": {
  "kernelspec": {
   "display_name": "Python 3",
   "language": "python",
   "name": "python3"
  },
  "language_info": {
   "codemirror_mode": {
    "name": "ipython",
    "version": 3
   },
   "file_extension": ".py",
   "mimetype": "text/x-python",
   "name": "python",
   "nbconvert_exporter": "python",
   "pygments_lexer": "ipython3",
   "version": "3.7.3"
  }
 },
 "nbformat": 4,
 "nbformat_minor": 2
}
