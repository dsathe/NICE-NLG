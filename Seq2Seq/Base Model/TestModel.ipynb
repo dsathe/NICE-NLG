{
 "cells": [
  {
   "cell_type": "code",
   "execution_count": 2,
   "metadata": {},
   "outputs": [],
   "source": [
    "#load the saved model and check predictions\n",
    "from keras.models import Model, load_model\n",
    "from keras.layers import Input\n",
    "import numpy as np\n",
    "import csv"
   ]
  },
  {
   "cell_type": "code",
   "execution_count": 3,
   "metadata": {},
   "outputs": [],
   "source": [
    "#form input_texts\n",
    "input_texts = []\n",
    "with open('test_data(copy).csv') as csvfile:\n",
    "    next(csvfile)\n",
    "    readCSV = csv.reader(csvfile,delimiter=',')\n",
    "    for row in readCSV:\n",
    "        text = \" \".join(row)\n",
    "        input_texts.append(text)\n",
    "#input_texts"
   ]
  },
  {
   "cell_type": "code",
   "execution_count": 4,
   "metadata": {},
   "outputs": [],
   "source": [
    "#form output_texts\n",
    "with open('description.txt','r',encoding='utf-8') as f:\n",
    "    lines =   f.read().split('\\n') \n",
    "target_texts = []\n",
    "for line in lines:\n",
    "    line = 'START_ ' + line + ' _END'\n",
    "    target_texts.append(line)\n",
    "#target_texts"
   ]
  },
  {
   "cell_type": "code",
   "execution_count": 5,
   "metadata": {},
   "outputs": [],
   "source": [
    "input_words = set()\n",
    "target_words = set()\n",
    "for input_text,target_text in zip(input_texts,target_texts):\n",
    "    words = input_text.split(' ') \n",
    "    for word in words:\n",
    "        if word not in input_words:\n",
    "            input_words.add(word)\n",
    "    words = target_text.split(' ') \n",
    "    for word in words:\n",
    "        if word not in target_words:\n",
    "            target_words.add(word)\n",
    "input_words = sorted(list(input_words))\n",
    "target_words = sorted(list(target_words))\n",
    "num_encoder_tokens = len(input_words)\n",
    "num_decoder_tokens = len(target_words)\n",
    "input_text_sizes = []\n",
    "for text in input_texts:\n",
    "    input_text_sizes.append(len(text.split(' ')))\n",
    "target_text_sizes = []\n",
    "for text in target_texts:\n",
    "    target_text_sizes.append(len(text.split(' ')))\n",
    "max_encoder_seq_length = max(input_text_sizes)\n",
    "max_decoder_seq_length = max(target_text_sizes)  "
   ]
  },
  {
   "cell_type": "code",
   "execution_count": 6,
   "metadata": {},
   "outputs": [],
   "source": [
    "input_token_index = dict(\n",
    "    [(word, i) for i, word in enumerate(input_words)])\n",
    "target_token_index = dict(\n",
    "    [(word, i) for i, word in enumerate(target_words)])"
   ]
  },
  {
   "cell_type": "code",
   "execution_count": 7,
   "metadata": {},
   "outputs": [],
   "source": [
    "encoder_input_data = np.zeros(\n",
    "    (len(input_texts), max_encoder_seq_length),\n",
    "    dtype='float32')\n",
    "for i,(input_text,target_text) in enumerate(zip(input_texts,target_texts)):\n",
    "    for t, word in enumerate(input_text.split(' ')):\n",
    "        encoder_input_data[i,t]=input_token_index[word]"
   ]
  },
  {
   "cell_type": "code",
   "execution_count": 8,
   "metadata": {},
   "outputs": [
    {
     "name": "stdout",
     "output_type": "stream",
     "text": [
      "WARNING:tensorflow:From /home/purva/anaconda3/lib/python3.7/site-packages/keras/backend/tensorflow_backend.py:517: The name tf.placeholder is deprecated. Please use tf.compat.v1.placeholder instead.\n",
      "\n",
      "WARNING:tensorflow:From /home/purva/anaconda3/lib/python3.7/site-packages/keras/backend/tensorflow_backend.py:74: The name tf.get_default_graph is deprecated. Please use tf.compat.v1.get_default_graph instead.\n",
      "\n",
      "WARNING:tensorflow:From /home/purva/anaconda3/lib/python3.7/site-packages/keras/backend/tensorflow_backend.py:4138: The name tf.random_uniform is deprecated. Please use tf.random.uniform instead.\n",
      "\n",
      "WARNING:tensorflow:From /home/purva/anaconda3/lib/python3.7/site-packages/keras/backend/tensorflow_backend.py:174: The name tf.get_default_session is deprecated. Please use tf.compat.v1.get_default_session instead.\n",
      "\n",
      "WARNING:tensorflow:From /home/purva/anaconda3/lib/python3.7/site-packages/keras/backend/tensorflow_backend.py:181: The name tf.ConfigProto is deprecated. Please use tf.compat.v1.ConfigProto instead.\n",
      "\n",
      "WARNING:tensorflow:From /home/purva/anaconda3/lib/python3.7/site-packages/keras/optimizers.py:790: The name tf.train.Optimizer is deprecated. Please use tf.compat.v1.train.Optimizer instead.\n",
      "\n",
      "WARNING:tensorflow:From /home/purva/anaconda3/lib/python3.7/site-packages/tensorflow/python/ops/math_grad.py:1250: add_dispatch_support.<locals>.wrapper (from tensorflow.python.ops.array_ops) is deprecated and will be removed in a future version.\n",
      "Instructions for updating:\n",
      "Use tf.where in 2.0, which has the same broadcast rule as np.where\n",
      "__________________________________________________________________________________________________\n",
      "Layer (type)                    Output Shape         Param #     Connected to                     \n",
      "==================================================================================================\n",
      "input_1 (InputLayer)            (None, None)         0                                            \n",
      "__________________________________________________________________________________________________\n",
      "input_2 (InputLayer)            (None, None)         0                                            \n",
      "__________________________________________________________________________________________________\n",
      "embedding_1 (Embedding)         (None, None, 50)     505600      input_1[0][0]                    \n",
      "__________________________________________________________________________________________________\n",
      "embedding_2 (Embedding)         (None, None, 50)     506450      input_2[0][0]                    \n",
      "__________________________________________________________________________________________________\n",
      "lstm_1 (LSTM)                   [(None, 50), (None,  20200       embedding_1[0][0]                \n",
      "__________________________________________________________________________________________________\n",
      "lstm_2 (LSTM)                   [(None, None, 50), ( 20200       embedding_2[0][0]                \n",
      "                                                                 lstm_1[0][1]                     \n",
      "                                                                 lstm_1[0][2]                     \n",
      "__________________________________________________________________________________________________\n",
      "dense_1 (Dense)                 (None, None, 10129)  516579      lstm_2[0][0]                     \n",
      "==================================================================================================\n",
      "Total params: 1,569,029\n",
      "Trainable params: 1,569,029\n",
      "Non-trainable params: 0\n",
      "__________________________________________________________________________________________________\n"
     ]
    }
   ],
   "source": [
    "model = load_model('model.h5')\n",
    "model.summary()"
   ]
  },
  {
   "cell_type": "code",
   "execution_count": 9,
   "metadata": {},
   "outputs": [],
   "source": [
    "encoder_inputs = model.input[0]\n",
    "encoder_outputs,state_h_enc,state_c_enc = model.layers[4].output\n",
    "encoder_states = [state_h_enc,state_c_enc]\n",
    "encoder_model = Model(encoder_inputs, encoder_states)"
   ]
  },
  {
   "cell_type": "code",
   "execution_count": 11,
   "metadata": {},
   "outputs": [],
   "source": [
    "decoder_state_input_h = Input(shape=(50,))\n",
    "decoder_state_input_c = Input(shape=(50,))\n",
    "decoder_states_inputs = [decoder_state_input_h, decoder_state_input_c]\n",
    "\n",
    "decoder_inputs = model.input[1]\n",
    "\n",
    "dex=  model.layers[3]\n",
    "\n",
    "final_dex2= dex(decoder_inputs)\n",
    "\n",
    "decoder_lstm = model.layers[5]\n",
    "decoder_outputs2, state_h2, state_c2 = decoder_lstm(final_dex2, initial_state=decoder_states_inputs)\n",
    "decoder_states2 = [state_h2, state_c2]\n",
    "decoder_dense = model.layers[6]\n",
    "decoder_outputs2 = decoder_dense(decoder_outputs2)\n",
    "decoder_model = Model(\n",
    "    [decoder_inputs] + decoder_states_inputs,\n",
    "    [decoder_outputs2] + decoder_states2)\n",
    "\n",
    "# Reverse-lookup token index to decode sequences back to\n",
    "# something readable.\n",
    "reverse_input_char_index = dict(\n",
    "    (i, char) for char, i in input_token_index.items())\n",
    "reverse_target_char_index = dict(\n",
    "    (i, char) for char, i in target_token_index.items())"
   ]
  },
  {
   "cell_type": "code",
   "execution_count": 12,
   "metadata": {},
   "outputs": [],
   "source": [
    "def decode_sequence(input_seq):\n",
    "    # Encode the input as state vectors.\n",
    "    states_value = encoder_model.predict(input_seq)\n",
    "    # Generate empty target sequence of length 1.\n",
    "    target_seq = np.zeros((1,1))\n",
    "    # Populate the first character of target sequence with the start character.\n",
    "    target_seq[0, 0] = target_token_index['START_']\n",
    "\n",
    "    # Sampling loop for a batch of sequences\n",
    "    # (to simplify, here we assume a batch of size 1).\n",
    "    stop_condition = False\n",
    "    decoded_sentence = ''\n",
    "    while not stop_condition:\n",
    "        output_tokens, h, c = decoder_model.predict(\n",
    "            [target_seq] + states_value)\n",
    "\n",
    "        # Sample a token\n",
    "        sampled_token_index = np.argmax(output_tokens[0, -1, :])\n",
    "        sampled_char = reverse_target_char_index[sampled_token_index]\n",
    "        decoded_sentence += ' '+sampled_char\n",
    "\n",
    "        # Exit condition: either hit max length\n",
    "        # or find stop character.\n",
    "        if (sampled_char == '_END' or\n",
    "           len(decoded_sentence) > 200):\n",
    "            stop_condition = True\n",
    "\n",
    "        # Update the target sequence (of length 1).\n",
    "        target_seq = np.zeros((1,1))\n",
    "        target_seq[0, 0] = sampled_token_index\n",
    "\n",
    "        # Update states\n",
    "        states_value = [h, c]\n",
    "\n",
    "    return decoded_sentence"
   ]
  },
  {
   "cell_type": "code",
   "execution_count": 14,
   "metadata": {},
   "outputs": [
    {
     "name": "stdout",
     "output_type": "stream",
     "text": [
      "-\n",
      "Input sentence: ['1001 Credit 811 India US USD 0 0.12']\n",
      "Decoded sentence:  Transaction no 1001 is a credit transaction, from India to US worth 811 dollars, which is suspicious with 0.12 probability. _END\n",
      "-\n",
      "Input sentence: ['1002 Credit 6564 Pakistan Germany Euro 1 0.7']\n",
      "Decoded sentence:  Transaction no 1002 is a credit transaction, from Pakistan to Germany worth 6564 euros, which is not suspicious with 0.7 probability. _END\n",
      "-\n",
      "Input sentence: ['1003 Credit 606 India India INR 0 0.95']\n",
      "Decoded sentence:  Transaction no 1003 is a credit transaction, within India worth 606 ruppees, which is suspicious with 0.95 probability. _END\n",
      "-\n",
      "Input sentence: ['1004 Debit 671 Pakistan Japan Euro 0 0.38']\n",
      "Decoded sentence:  Transaction no 1004 is a debit transaction, from Pakistan to Japan worth 671 euros, which is suspicious with 0.38 probability. _END\n",
      "-\n",
      "Input sentence: ['1005 Debit 7750 US India INR 0 0.28']\n",
      "Decoded sentence:  Transaction no 1005 is a debit transaction, from US to India worth 7750 ruppees, which is suspicious with 0.28 probability. _END\n",
      "-\n",
      "Input sentence: ['1006 Credit 6788 India India INR 1 0.7']\n",
      "Decoded sentence:  Transaction no 1006 is a credit transaction, within India worth 6788 ruppees, which is not suspicious with 0.7 probability. _END\n",
      "-\n",
      "Input sentence: ['1007 Debit 5481 Japan China Yen 0 0.21']\n",
      "Decoded sentence:  Transaction no 1007 is a debit transaction, from Japan to China worth 5481 yen, which is suspicious with 0.21 probability. _END\n",
      "-\n",
      "Input sentence: ['1008 Credit 1330 Pakistan US USD 0 0.57']\n",
      "Decoded sentence:  Transaction no 1008 is a credit transaction, from Pakistan to US worth 1330 dollars, which is suspicious with 0.57 probability. _END\n",
      "-\n",
      "Input sentence: ['1009 Credit 1056 India Germany INR 0 0.04']\n",
      "Decoded sentence:  Transaction no 1009 is a credit transaction, from India to Germany worth 1056 ruppees, which is suspicious with 0.04 probability. _END\n",
      "-\n",
      "Input sentence: ['1010 Credit 5514 Pakistan India INR 0 0.11']\n",
      "Decoded sentence:  Transaction no 1010 is a credit transaction, from Pakistan to India worth 5514 ruppees, which is suspicious with 0.11 probability. _END\n"
     ]
    }
   ],
   "source": [
    "for seq_index in range(1000,1010):\n",
    "    input_seq = encoder_input_data[seq_index: seq_index + 1]\n",
    "    decoded_sentence = decode_sequence(input_seq)\n",
    "    print('-')\n",
    "    print('Input sentence:', input_texts[seq_index: seq_index + 1])\n",
    "    print('Decoded sentence:', decoded_sentence)"
   ]
  },
  {
   "cell_type": "code",
   "execution_count": null,
   "metadata": {},
   "outputs": [],
   "source": []
  }
 ],
 "metadata": {
  "kernelspec": {
   "display_name": "Python 3",
   "language": "python",
   "name": "python3"
  },
  "language_info": {
   "codemirror_mode": {
    "name": "ipython",
    "version": 3
   },
   "file_extension": ".py",
   "mimetype": "text/x-python",
   "name": "python",
   "nbconvert_exporter": "python",
   "pygments_lexer": "ipython3",
   "version": "3.7.3"
  }
 },
 "nbformat": 4,
 "nbformat_minor": 2
}
